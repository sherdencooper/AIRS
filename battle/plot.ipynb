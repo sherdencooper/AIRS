{
 "cells": [
  {
   "cell_type": "code",
   "execution_count": 2,
   "metadata": {},
   "outputs": [],
   "source": [
    "import torch\n",
    "import gym\n",
    "import logging\n",
    "import sys\n",
    "import asciichartpy\n",
    "import argparse\n",
    "import _env.cyberbattle_env as cyberbattle_env\n",
    "from agents.baseline.agent_wrapper import Verbosity\n",
    "import agents.baseline.agent_dql as dqla\n",
    "import agents.baseline.agent_wrapper as w\n",
    "import agents.baseline.plotting as p\n",
    "import agents.baseline.learner as learner\n",
    "from __init__ import *\n",
    "from gym import spaces"
   ]
  },
  {
   "cell_type": "code",
   "execution_count": 3,
   "metadata": {},
   "outputs": [],
   "source": [
    "parser = argparse.ArgumentParser(description='Run simulation with DQL baseline agent.')\n",
    "\n",
    "parser.add_argument('--training_episode_count', default=50, type=int,\n",
    "                    help='number of training epochs')\n",
    "\n",
    "parser.add_argument('--eval_episode_count', default=10, type=int,\n",
    "                    help='number of evaluation epochs')\n",
    "\n",
    "parser.add_argument('--iteration_count', default=9000, type=int,\n",
    "                    help='number of simulation iterations for each epoch')\n",
    "\n",
    "parser.add_argument('--reward_goal', default=2180, type=int,\n",
    "                    help='minimum target rewards to reach for the attacker to reach its goal')\n",
    "\n",
    "parser.add_argument('--ownership_goal', default=1.0, type=float,\n",
    "                    help='percentage of network nodes to own for the attacker to reach its goal')\n",
    "\n",
    "parser.add_argument('--rewardplot_with', default=80, type=int,\n",
    "                    help='width of the reward plot (values are averaged across iterations to fit in the desired width)')\n",
    "\n",
    "parser.add_argument('--chain_size', default=20, type=int,\n",
    "                    help='size of the chain of the CyberBattleChain sample environment')\n",
    "\n",
    "parser.add_argument('--random_agent', dest='run_random_agent', action='store_false', help='run the random agent as a baseline for comparison')\n",
    "parser.add_argument('--no-random_agent', dest='run_random_agent', action='store_true', help='do not run the random agent as a baseline for comparison')\n",
    "parser.set_defaults(run_random_agent=False)"
   ]
  },
  {
   "cell_type": "code",
   "execution_count": 4,
   "metadata": {},
   "outputs": [
    {
     "name": "stdout",
     "output_type": "stream",
     "text": [
      "torch cuda available=True\n"
     ]
    }
   ],
   "source": [
    "args = parser.parse_known_args()[0]\n",
    "\n",
    "logging.basicConfig(stream=sys.stdout, level=logging.ERROR, format=\"%(levelname)s: %(message)s\")\n",
    "\n",
    "print(f\"torch cuda available={torch.cuda.is_available()}\")"
   ]
  },
  {
   "cell_type": "code",
   "execution_count": 5,
   "metadata": {},
   "outputs": [],
   "source": [
    "cyberbattlechain = gym.make('CyberBattleChain-v0',\n",
    "                            size=args.chain_size,\n",
    "                            attacker_goal=cyberbattle_env.AttackerGoal(\n",
    "                                own_atleast_percent=args.ownership_goal,\n",
    "                                reward=args.reward_goal))\n",
    "\n",
    "ep = w.EnvironmentBounds.of_identifiers(\n",
    "    maximum_total_credentials=22,\n",
    "    maximum_node_count=22,\n",
    "    identifiers=cyberbattlechain.identifiers\n",
    ")"
   ]
  },
  {
   "cell_type": "code",
   "execution_count": 20,
   "metadata": {},
   "outputs": [],
   "source": [
    "env = cyberbattlechain.environment"
   ]
  },
  {
   "cell_type": "code",
   "execution_count": 24,
   "metadata": {},
   "outputs": [
    {
     "data": {
      "text/plain": [
       "NodeView(('start', '21_LinuxNode', '1_LinuxNode', '2_WindowsNode', '3_LinuxNode', '4_WindowsNode', '5_LinuxNode', '6_WindowsNode', '7_LinuxNode', '8_WindowsNode', '9_LinuxNode', '10_WindowsNode', '11_LinuxNode', '12_WindowsNode', '13_LinuxNode', '14_WindowsNode', '15_LinuxNode', '16_WindowsNode', '17_LinuxNode', '18_WindowsNode', '19_LinuxNode', '20_WindowsNode'))"
      ]
     },
     "execution_count": 24,
     "metadata": {},
     "output_type": "execute_result"
    }
   ],
   "source": [
    "env.network.nodes"
   ]
  },
  {
   "cell_type": "code",
   "execution_count": 26,
   "metadata": {},
   "outputs": [
    {
     "data": {
      "text/plain": [
       "NodeInfo(services=[ListeningService(name='HTTPS', allowedCredentials=[], running=True), ListeningService(name='SSH', allowedCredentials=['LinuxPassword!1'], running=True)], vulnerabilities={'ProbeLinux': VulnerabilityInfo(description='Probe to check if the node runs Linux', type=<VulnerabilityType.REMOTE: 2>, outcome=<simulation.model.ProbeSucceeded object at 0x7f09803b0250>, precondition=<simulation.model.Precondition object at 0x7f09803a5d60>, rates=Rates(probingDetectionRate=0.0, exploitDetectionRate=0.0, successRate=1.0), URL='', cost=5.0, reward_string='Remote machine is running Linux'), 'ProbeWindows': VulnerabilityInfo(description='Probe to check if the node runs Windows', type=<VulnerabilityType.REMOTE: 2>, outcome=<simulation.model.ProbeFailed object at 0x7f09803b02e0>, precondition=<simulation.model.Precondition object at 0x7f09803a5d60>, rates=Rates(probingDetectionRate=0.0, exploitDetectionRate=0.0, successRate=1.0), URL='', cost=5.0, reward_string='Remote machine is not running Windows'), 'ScanBashHistory': VulnerabilityInfo(description='Scan bash history for possible references to other machines', type=<VulnerabilityType.LOCAL: 1>, outcome=<simulation.model.LeakedNodesId object at 0x7f09803b0340>, precondition=<simulation.model.Precondition object at 0x7f09803a5d60>, rates=Rates(probingDetectionRate=0.0, exploitDetectionRate=0.0, successRate=1.0), URL='', cost=1.0, reward_string='Found a reference to a remote Windows node in bash history'), 'ScanExplorerRecentFiles': VulnerabilityInfo(description='Scan Windows Explorer recent files for possible references to other machines', type=<VulnerabilityType.LOCAL: 1>, outcome=<simulation.model.ExploitFailed object at 0x7f09803b03d0>, precondition=<simulation.model.Precondition object at 0x7f09803a5d60>, rates=Rates(probingDetectionRate=0.0, exploitDetectionRate=0.0, successRate=1.0), URL='', cost=10.0, reward_string='Trap: feature not supported on Linux'), 'SudoAttempt': VulnerabilityInfo(description='Attempt to sudo into admin user', type=<VulnerabilityType.LOCAL: 1>, outcome=<simulation.model.ExploitFailed object at 0x7f09803b0430>, precondition=<simulation.model.Precondition object at 0x7f09803a5d60>, rates=Rates(probingDetectionRate=0.0, exploitDetectionRate=0.0, successRate=1.0), URL='', cost=100.0, reward_string='Trap: suspicious attempt to run sudo'), 'CrackKeepPassX': VulnerabilityInfo(description='Attempt to crack KeepPassX and look for credentials', type=<VulnerabilityType.LOCAL: 1>, outcome=<simulation.model.LeakedCredentials object at 0x7f09803b0490>, precondition=<simulation.model.Precondition object at 0x7f09803a5d60>, rates=Rates(probingDetectionRate=0.0, exploitDetectionRate=0.0, successRate=1.0), URL='', cost=1.0, reward_string='Discovered password to Windows machine 2')}, value=100, properties=['MySql', 'Ubuntu', 'nginx/1.10.3'], firewall=FirewallConfiguration(outgoing=[FirewallRule(port='RDP', permission=<RulePermission.ALLOW: 0>, reason=''), FirewallRule(port='SSH', permission=<RulePermission.ALLOW: 0>, reason=''), FirewallRule(port='HTTPS', permission=<RulePermission.ALLOW: 0>, reason=''), FirewallRule(port='HTTP', permission=<RulePermission.ALLOW: 0>, reason='')], incoming=[FirewallRule(port='RDP', permission=<RulePermission.ALLOW: 0>, reason=''), FirewallRule(port='SSH', permission=<RulePermission.ALLOW: 0>, reason=''), FirewallRule(port='HTTPS', permission=<RulePermission.ALLOW: 0>, reason=''), FirewallRule(port='HTTP', permission=<RulePermission.ALLOW: 0>, reason='')]), agent_installed=False, privilege_level=<PrivilegeLevel.NoAccess: 0>, reimagable=True, last_reimaging=None, owned_string='Intermediate chain node owned, no intinsic value', sla_weight=1.0)"
      ]
     },
     "execution_count": 26,
     "metadata": {},
     "output_type": "execute_result"
    }
   ],
   "source": [
    "env.get_node('1_LinuxNode')"
   ]
  },
  {
   "cell_type": "code",
   "execution_count": 5,
   "metadata": {},
   "outputs": [],
   "source": [
    "# cyberbattlechain = gym.make('CyberBattleRandom-v0')\n",
    "\n",
    "# ep = w.EnvironmentBounds.of_identifiers(\n",
    "#     maximum_total_credentials=52,\n",
    "#     maximum_node_count=52,\n",
    "#     identifiers=cyberbattlechain.identifiers\n",
    "# )"
   ]
  },
  {
   "cell_type": "code",
   "execution_count": 6,
   "metadata": {},
   "outputs": [],
   "source": [
    "# cyberbattlechain = gym.make('CyberBattleToyCtf-v0')\n",
    "\n",
    "# ep = w.EnvironmentBounds.of_identifiers(\n",
    "#     maximum_total_credentials=52,\n",
    "#     maximum_node_count=52,\n",
    "#     identifiers=cyberbattlechain.identifiers\n",
    "# )"
   ]
  },
  {
   "cell_type": "code",
   "execution_count": 8,
   "metadata": {},
   "outputs": [],
   "source": [
    "# dir(cyberbattlechain.environment)"
   ]
  },
  {
   "cell_type": "code",
   "execution_count": 9,
   "metadata": {},
   "outputs": [
    {
     "name": "stdout",
     "output_type": "stream",
     "text": [
      "[ListeningService(name='SMB', allowedCredentials=['unique_pwd10'], running=True)]\n",
      "[]\n",
      "[]\n",
      "[]\n",
      "[]\n",
      "[ListeningService(name='RDP', allowedCredentials=['unique_pwd1'], running=True)]\n",
      "[ListeningService(name='SMB', allowedCredentials=['unique_pwd13'], running=True)]\n",
      "[]\n",
      "[]\n",
      "[ListeningService(name='SMB', allowedCredentials=['unique_pwd2'], running=True)]\n",
      "[ListeningService(name='RDP', allowedCredentials=['unique_pwd4'], running=True), ListeningService(name='SMB', allowedCredentials=['unique_pwd5'], running=True)]\n",
      "[ListeningService(name='SMB', allowedCredentials=['unique_pwd6'], running=True)]\n",
      "[ListeningService(name='SMB', allowedCredentials=['unique_pwd11'], running=True)]\n",
      "[ListeningService(name='SMB', allowedCredentials=['unique_pwd17'], running=True)]\n",
      "[]\n",
      "[]\n",
      "[ListeningService(name='SMB', allowedCredentials=['unique_pwd8'], running=True)]\n",
      "[ListeningService(name='SMB', allowedCredentials=['unique_pwd3', 'unique_pwd9'], running=True)]\n",
      "[]\n",
      "[ListeningService(name='SMB', allowedCredentials=['unique_pwd14'], running=True)]\n"
     ]
    }
   ],
   "source": [
    "for i in range(20):\n",
    "    print(cyberbattlechain.environment.network.nodes[str(i)]['data'].services)"
   ]
  },
  {
   "cell_type": "code",
   "execution_count": 6,
   "metadata": {},
   "outputs": [
    {
     "data": {
      "image/png": "[encoded data removed]",
      "text/plain": [
       "<Figure size 432x288 with 1 Axes>"
      ]
     },
     "metadata": {},
     "output_type": "display_data"
    }
   ],
   "source": [
    "cyberbattlechain.environment.plot_environment_graph()"
   ]
  },
  {
   "cell_type": "code",
   "execution_count": null,
   "metadata": {},
   "outputs": [
    {
     "ename": "SyntaxError",
     "evalue": "unmatched ')' (3982261644.py, line 21)",
     "output_type": "error",
     "traceback": [
      "\u001b[0;36m  File \u001b[0;32m\"/tmp/ipykernel_4167549/3982261644.py\"\u001b[0;36m, line \u001b[0;32m21\u001b[0m\n\u001b[0;31m    )\u001b[0m\n\u001b[0m    ^\u001b[0m\n\u001b[0;31mSyntaxError\u001b[0m\u001b[0;31m:\u001b[0m unmatched ')'\n"
     ]
    }
   ],
   "source": [
    "# dqn_learning_run = learner.epsilon_greedy_search(\n",
    "#     cyberbattle_gym_env=cyberbattlechain,\n",
    "#     environment_properties=ep,\n",
    "#     learner=dqla.DeepQLearnerPolicy(\n",
    "#         ep=ep,\n",
    "#         gamma=0.015,\n",
    "#         replay_memory_size=10000,\n",
    "#         target_update=10,\n",
    "#         batch_size=512,\n",
    "#         learning_rate=0.01),  # torch default is 1e-2\n",
    "#     # episode_count=args.training_episode_count,\n",
    "#     episode_count=1,\n",
    "#     iteration_count=args.iteration_count,\n",
    "#     epsilon=0.90,\n",
    "#     render=False,\n",
    "#     # epsilon_multdecay=0.75,  # 0.999,\n",
    "#     epsilon_exponential_decay=5000,  # 10000\n",
    "#     epsilon_minimum=0.10,\n",
    "#     verbosity=Verbosity.Quiet,\n",
    "#     title=\"DQL\"\n",
    ")"
   ]
  }
 ],
 "metadata": {
  "interpreter": {
   "hash": "887b1b35b25a12c741da2f1daf30d1861d1f30c7e446afa83f68b6eb81c753a2"
  },
  "kernelspec": {
   "display_name": "Python 3.8.0 64-bit ('battle': conda)",
   "language": "python",
   "name": "python3"
  },
  "language_info": {
   "codemirror_mode": {
    "name": "ipython",
    "version": 3
   },
   "file_extension": ".py",
   "mimetype": "text/x-python",
   "name": "python",
   "nbconvert_exporter": "python",
   "pygments_lexer": "ipython3",
   "version": "3.8.0"
  },
  "orig_nbformat": 4
 },
 "nbformat": 4,
 "nbformat_minor": 2
}
